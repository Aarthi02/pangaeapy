{
 "cells": [
  {
   "cell_type": "code",
   "execution_count": 24,
   "metadata": {},
   "outputs": [
    {
     "data": {
      "text/plain": [
       "Index(['Depth', 'Age', 'SiO2', 'TiO2', 'Al2O3', 'Fe2O3', 'MnO', 'MgO', 'CaO',\n",
       "       'Na2O', 'K2O', 'P2O5', 'SO3', 'Cl', 'LOI', 'Sum', 'Ba', 'Co', 'Cr',\n",
       "       'Cu', 'Ga', 'Nb', 'Ni', 'Rb', 'Sr', 'Th', 'V', 'Y', 'Zn', 'Zr',\n",
       "       'Latitude', 'Longitude', 'Elevation', 'Event', 'Date/Time', 'Source',\n",
       "       'TOC', 'TN', 'CaCO3', 'δ15N', 'δ15N std dev', 'δ13C carb',\n",
       "       'δ13C std dev', 'δ18O carb', 'δ18O std dev'],\n",
       "      dtype='object')"
      ]
     },
     "execution_count": 24,
     "metadata": {},
     "output_type": "execute_result"
    }
   ],
   "source": [
    "from pangaeapy import PanDataSet\n",
    "import pandas as pd\n",
    "from matplotlib import pyplot as plt\n",
    "\n",
    "def drop_y(df):\n",
    "    # list comprehension of the cols that end with '_y'\n",
    "    to_drop = [x for x in df if x.endswith('_y')]\n",
    "    df.drop(to_drop, axis=1, inplace=True)\n",
    "\n",
    "#N\n",
    "ds1 = PanDataSet(900972)\n",
    "ds1.data['Source']='N'\n",
    "#C\n",
    "ds2 = PanDataSet(900971)\n",
    "ds2.data['Source']='C'\n",
    "#C\n",
    "ds3=PanDataSet(900967)\n",
    "ds3.data['Source']='C'\n",
    "#N\n",
    "ds4=PanDataSet(900968)\n",
    "ds4.data['Source']='N'\n",
    "dsC=pd.merge(ds2.data,ds3.data,left_on='Depth',right_on='Depth',suffixes=('', '_y'))\n",
    "drop_y(dsC)\n",
    "\n",
    "dsN=pd.merge(ds1.data,ds4.data,left_on='Depth',right_on='Depth',suffixes=('', '_y'))\n",
    "drop_y(dsN)\n",
    "#ds3.data['Corg']=\n",
    "dsC.columns"
   ]
  },
  {
   "cell_type": "code",
   "execution_count": 50,
   "metadata": {},
   "outputs": [],
   "source": [
    "dsdata=pd.concat([dsN,dsC])\n",
    "dsdata = dsdata.reset_index(drop=True)"
   ]
  },
  {
   "cell_type": "code",
   "execution_count": 51,
   "metadata": {},
   "outputs": [
    {
     "data": {
      "text/plain": [
       "Index(['Depth', 'Age', 'SiO2', 'TiO2', 'Al2O3', 'Fe2O3', 'MnO', 'MgO', 'CaO',\n",
       "       'Na2O', 'K2O', 'P2O5', 'SO3', 'Cl', 'LOI', 'Sum', 'Ba', 'Co', 'Cr',\n",
       "       'Cu', 'Ga', 'Nb', 'Ni', 'Rb', 'Sr', 'Th', 'V', 'Y', 'Zn', 'Zr',\n",
       "       'Latitude', 'Longitude', 'Elevation', 'Event', 'Date/Time', 'Source',\n",
       "       'TOC', 'TN', 'CaCO3', 'δ15N', 'δ15N std dev', 'δ13C carb',\n",
       "       'δ13C std dev', 'δ18O carb', 'δ18O std dev'],\n",
       "      dtype='object')"
      ]
     },
     "execution_count": 51,
     "metadata": {},
     "output_type": "execute_result"
    }
   ],
   "source": [
    "dsdata.columns"
   ]
  },
  {
   "cell_type": "code",
   "execution_count": 52,
   "metadata": {},
   "outputs": [],
   "source": [
    "# 1) the dataset has data expressed in % as well as in mg/kg, we therefore need to clean the data first\n",
    "#    in order to have the same units here. We recalculate % to mg/kg with a factor of 10000\n",
    "# 2) oxides need to be converted to elementt weights\n",
    "oxide={'SiO2':2.1392, 'TiO2':1.6681, 'Al2O3':1.8895, 'Fe2O3':1.4297, 'MnO':1.2912, 'MgO':1.6582, 'CaO':1.3992,\n",
    "       'Na2O':1.3480, 'K2O':1.2046, 'P2O5':2.2916, 'SO3':2.4972}\n",
    "for pshort,param in ds1.params.items():\n",
    "    if pshort in oxide:\n",
    "        dsdata[pshort]=dsdata[pshort].divide(oxide[pshort])\n",
    "    if param.unit=='mg/kg':\n",
    "        dsdata[pshort]=dsdata[pshort].divide(10000)\n"
   ]
  },
  {
   "cell_type": "code",
   "execution_count": 53,
   "metadata": {},
   "outputs": [
    {
     "data": {
      "text/html": [
       "<div>\n",
       "<style scoped>\n",
       "    .dataframe tbody tr th:only-of-type {\n",
       "        vertical-align: middle;\n",
       "    }\n",
       "\n",
       "    .dataframe tbody tr th {\n",
       "        vertical-align: top;\n",
       "    }\n",
       "\n",
       "    .dataframe thead th {\n",
       "        text-align: right;\n",
       "    }\n",
       "</style>\n",
       "<table border=\"1\" class=\"dataframe\">\n",
       "  <thead>\n",
       "    <tr style=\"text-align: right;\">\n",
       "      <th></th>\n",
       "      <th>Depth</th>\n",
       "      <th>Age</th>\n",
       "      <th>SiO2</th>\n",
       "      <th>TiO2</th>\n",
       "      <th>Al2O3</th>\n",
       "      <th>Fe2O3</th>\n",
       "      <th>MnO</th>\n",
       "      <th>MgO</th>\n",
       "      <th>CaO</th>\n",
       "      <th>Na2O</th>\n",
       "      <th>...</th>\n",
       "      <th>Source</th>\n",
       "      <th>TOC</th>\n",
       "      <th>TN</th>\n",
       "      <th>CaCO3</th>\n",
       "      <th>δ15N</th>\n",
       "      <th>δ15N std dev</th>\n",
       "      <th>δ13C carb</th>\n",
       "      <th>δ13C std dev</th>\n",
       "      <th>δ18O carb</th>\n",
       "      <th>δ18O std dev</th>\n",
       "    </tr>\n",
       "  </thead>\n",
       "  <tbody>\n",
       "    <tr>\n",
       "      <th>48</th>\n",
       "      <td>2.375</td>\n",
       "      <td>2.867</td>\n",
       "      <td>19.848542</td>\n",
       "      <td>0.392063</td>\n",
       "      <td>6.917174</td>\n",
       "      <td>3.839966</td>\n",
       "      <td>0.043371</td>\n",
       "      <td>2.074539</td>\n",
       "      <td>8.004574</td>\n",
       "      <td>1.446588</td>\n",
       "      <td>...</td>\n",
       "      <td>C</td>\n",
       "      <td>1.89</td>\n",
       "      <td>0.23</td>\n",
       "      <td>19.1</td>\n",
       "      <td>8.09</td>\n",
       "      <td>0.06</td>\n",
       "      <td>-0.71</td>\n",
       "      <td>0.03</td>\n",
       "      <td>-3.11</td>\n",
       "      <td>0.04</td>\n",
       "    </tr>\n",
       "    <tr>\n",
       "      <th>49</th>\n",
       "      <td>4.390</td>\n",
       "      <td>6.666</td>\n",
       "      <td>21.741773</td>\n",
       "      <td>0.419639</td>\n",
       "      <td>7.144747</td>\n",
       "      <td>3.937889</td>\n",
       "      <td>0.051115</td>\n",
       "      <td>2.104692</td>\n",
       "      <td>7.404231</td>\n",
       "      <td>1.283383</td>\n",
       "      <td>...</td>\n",
       "      <td>C</td>\n",
       "      <td>1.01</td>\n",
       "      <td>0.15</td>\n",
       "      <td>19.4</td>\n",
       "      <td>6.84</td>\n",
       "      <td>0.03</td>\n",
       "      <td>-1.91</td>\n",
       "      <td>0.03</td>\n",
       "      <td>-4.69</td>\n",
       "      <td>0.04</td>\n",
       "    </tr>\n",
       "    <tr>\n",
       "      <th>50</th>\n",
       "      <td>6.855</td>\n",
       "      <td>10.703</td>\n",
       "      <td>22.190539</td>\n",
       "      <td>0.435226</td>\n",
       "      <td>7.912146</td>\n",
       "      <td>4.364552</td>\n",
       "      <td>0.055762</td>\n",
       "      <td>2.309733</td>\n",
       "      <td>6.009863</td>\n",
       "      <td>1.275964</td>\n",
       "      <td>...</td>\n",
       "      <td>C</td>\n",
       "      <td>0.42</td>\n",
       "      <td>0.08</td>\n",
       "      <td>15.6</td>\n",
       "      <td>6.66</td>\n",
       "      <td>0.00</td>\n",
       "      <td>-2.11</td>\n",
       "      <td>0.03</td>\n",
       "      <td>-5.05</td>\n",
       "      <td>0.04</td>\n",
       "    </tr>\n",
       "    <tr>\n",
       "      <th>51</th>\n",
       "      <td>6.865</td>\n",
       "      <td>10.707</td>\n",
       "      <td>22.405572</td>\n",
       "      <td>0.444218</td>\n",
       "      <td>7.970363</td>\n",
       "      <td>4.350563</td>\n",
       "      <td>0.056537</td>\n",
       "      <td>2.315764</td>\n",
       "      <td>5.889794</td>\n",
       "      <td>1.261128</td>\n",
       "      <td>...</td>\n",
       "      <td>C</td>\n",
       "      <td>0.41</td>\n",
       "      <td>0.09</td>\n",
       "      <td>15.0</td>\n",
       "      <td>6.84</td>\n",
       "      <td>0.04</td>\n",
       "      <td>-2.02</td>\n",
       "      <td>0.03</td>\n",
       "      <td>-4.95</td>\n",
       "      <td>0.04</td>\n",
       "    </tr>\n",
       "    <tr>\n",
       "      <th>52</th>\n",
       "      <td>6.875</td>\n",
       "      <td>10.716</td>\n",
       "      <td>22.143792</td>\n",
       "      <td>0.431029</td>\n",
       "      <td>7.790421</td>\n",
       "      <td>4.546408</td>\n",
       "      <td>0.056537</td>\n",
       "      <td>2.261488</td>\n",
       "      <td>6.129217</td>\n",
       "      <td>1.313056</td>\n",
       "      <td>...</td>\n",
       "      <td>C</td>\n",
       "      <td>0.45</td>\n",
       "      <td>0.09</td>\n",
       "      <td>15.9</td>\n",
       "      <td>6.98</td>\n",
       "      <td>0.00</td>\n",
       "      <td>-1.75</td>\n",
       "      <td>0.03</td>\n",
       "      <td>-4.74</td>\n",
       "      <td>0.04</td>\n",
       "    </tr>\n",
       "  </tbody>\n",
       "</table>\n",
       "<p>5 rows × 45 columns</p>\n",
       "</div>"
      ],
      "text/plain": [
       "    Depth     Age       SiO2      TiO2     Al2O3     Fe2O3       MnO  \\\n",
       "48  2.375   2.867  19.848542  0.392063  6.917174  3.839966  0.043371   \n",
       "49  4.390   6.666  21.741773  0.419639  7.144747  3.937889  0.051115   \n",
       "50  6.855  10.703  22.190539  0.435226  7.912146  4.364552  0.055762   \n",
       "51  6.865  10.707  22.405572  0.444218  7.970363  4.350563  0.056537   \n",
       "52  6.875  10.716  22.143792  0.431029  7.790421  4.546408  0.056537   \n",
       "\n",
       "         MgO       CaO      Na2O  ...  Source   TOC    TN  CaCO3  δ15N  \\\n",
       "48  2.074539  8.004574  1.446588  ...       C  1.89  0.23   19.1  8.09   \n",
       "49  2.104692  7.404231  1.283383  ...       C  1.01  0.15   19.4  6.84   \n",
       "50  2.309733  6.009863  1.275964  ...       C  0.42  0.08   15.6  6.66   \n",
       "51  2.315764  5.889794  1.261128  ...       C  0.41  0.09   15.0  6.84   \n",
       "52  2.261488  6.129217  1.313056  ...       C  0.45  0.09   15.9  6.98   \n",
       "\n",
       "    δ15N std dev  δ13C carb  δ13C std dev  δ18O carb  δ18O std dev  \n",
       "48          0.06      -0.71          0.03      -3.11          0.04  \n",
       "49          0.03      -1.91          0.03      -4.69          0.04  \n",
       "50          0.00      -2.11          0.03      -5.05          0.04  \n",
       "51          0.04      -2.02          0.03      -4.95          0.04  \n",
       "52          0.00      -1.75          0.03      -4.74          0.04  \n",
       "\n",
       "[5 rows x 45 columns]"
      ]
     },
     "execution_count": 53,
     "metadata": {},
     "output_type": "execute_result"
    }
   ],
   "source": [
    "dsdata.tail()"
   ]
  },
  {
   "cell_type": "code",
   "execution_count": 54,
   "metadata": {},
   "outputs": [],
   "source": [
    "#original data matrix also contains Cl, PCA can only be reproduced without Cl in matrix\n",
    "#Probably because sample was treated with HCl?\n",
    "\n",
    "elementcols=['SiO2', 'TiO2', 'Al2O3', 'Fe2O3', 'MnO', 'MgO', 'CaO',\n",
    "             'Na2O', 'K2O', 'P2O5', 'SO3','Ba', 'Co', 'Cr', 'Cu', \n",
    "             'Ga', 'Nb', 'Ni', 'Rb', 'Sr', 'Th', 'V', 'Y', 'Zn', 'Zr','TOC']\n",
    "\n",
    "\n",
    "#Ca, Corg, P, S, Sr and Zn \n",
    "#Al, Ba, Co, Cr, Cu, Fe, Ga, K, Mg, Mn, Nb, Ni, Rb, Si, Th, Ti, V, Y and Zr.\n",
    "\n",
    "X=dsdata[elementcols].values\n",
    "y = dsdata['Age'].values"
   ]
  },
  {
   "cell_type": "code",
   "execution_count": 55,
   "metadata": {},
   "outputs": [
    {
     "data": {
      "text/plain": [
       "array([[2.03440539e+01, 3.98057670e-01, 7.30351945e+00, ...,\n",
       "        5.10000000e-03, 1.23000000e-02, 2.61000000e+00],\n",
       "       [2.06432311e+01, 3.99256639e-01, 7.36173591e+00, ...,\n",
       "        4.90000000e-03, 1.24000000e-02, 2.37000000e+00],\n",
       "       [2.07227001e+01, 4.05850968e-01, 7.40936756e+00, ...,\n",
       "        5.10000000e-03, 1.25000000e-02, 2.35000000e+00],\n",
       "       ...,\n",
       "       [2.21905385e+01, 4.35225706e-01, 7.91214607e+00, ...,\n",
       "        6.70000000e-03, 1.33000000e-02, 4.20000000e-01],\n",
       "       [2.24055722e+01, 4.44217973e-01, 7.97036253e+00, ...,\n",
       "        6.70000000e-03, 1.29000000e-02, 4.10000000e-01],\n",
       "       [2.21437921e+01, 4.31029315e-01, 7.79042075e+00, ...,\n",
       "        6.60000000e-03, 1.29000000e-02, 4.50000000e-01]])"
      ]
     },
     "execution_count": 55,
     "metadata": {},
     "output_type": "execute_result"
    }
   ],
   "source": [
    "X"
   ]
  },
  {
   "cell_type": "code",
   "execution_count": 56,
   "metadata": {},
   "outputs": [],
   "source": [
    "from sklearn.decomposition import PCA as sklearnPCA\n",
    "from sklearn.preprocessing import StandardScaler\n",
    "scaledX=StandardScaler().fit(X)\n",
    "X_std = scaledX.transform(X)\n",
    "sklearn_pca = sklearnPCA(n_components=2)\n",
    "pcares = sklearn_pca.fit(X_std).transform(X_std)"
   ]
  },
  {
   "cell_type": "code",
   "execution_count": 75,
   "metadata": {},
   "outputs": [
    {
     "data": {
      "text/html": [
       "<div>\n",
       "<style scoped>\n",
       "    .dataframe tbody tr th:only-of-type {\n",
       "        vertical-align: middle;\n",
       "    }\n",
       "\n",
       "    .dataframe tbody tr th {\n",
       "        vertical-align: top;\n",
       "    }\n",
       "\n",
       "    .dataframe thead th {\n",
       "        text-align: right;\n",
       "    }\n",
       "</style>\n",
       "<table border=\"1\" class=\"dataframe\">\n",
       "  <thead>\n",
       "    <tr style=\"text-align: right;\">\n",
       "      <th></th>\n",
       "      <th>PC1</th>\n",
       "      <th>PC2</th>\n",
       "      <th>Element</th>\n",
       "    </tr>\n",
       "  </thead>\n",
       "  <tbody>\n",
       "    <tr>\n",
       "      <th>0</th>\n",
       "      <td>0.231235</td>\n",
       "      <td>0.195818</td>\n",
       "      <td>Si</td>\n",
       "    </tr>\n",
       "    <tr>\n",
       "      <th>1</th>\n",
       "      <td>0.289454</td>\n",
       "      <td>-0.021371</td>\n",
       "      <td>Ti</td>\n",
       "    </tr>\n",
       "    <tr>\n",
       "      <th>2</th>\n",
       "      <td>0.287417</td>\n",
       "      <td>-0.065147</td>\n",
       "      <td>Al</td>\n",
       "    </tr>\n",
       "    <tr>\n",
       "      <th>3</th>\n",
       "      <td>0.230098</td>\n",
       "      <td>-0.147079</td>\n",
       "      <td>Fe</td>\n",
       "    </tr>\n",
       "    <tr>\n",
       "      <th>4</th>\n",
       "      <td>0.204052</td>\n",
       "      <td>0.270933</td>\n",
       "      <td>Mn</td>\n",
       "    </tr>\n",
       "  </tbody>\n",
       "</table>\n",
       "</div>"
      ],
      "text/plain": [
       "        PC1       PC2 Element\n",
       "0  0.231235  0.195818      Si\n",
       "1  0.289454 -0.021371      Ti\n",
       "2  0.287417 -0.065147      Al\n",
       "3  0.230098 -0.147079      Fe\n",
       "4  0.204052  0.270933      Mn"
      ]
     },
     "execution_count": 75,
     "metadata": {},
     "output_type": "execute_result"
    }
   ],
   "source": [
    "komp=pd.DataFrame(sklearn_pca.components_).transpose()\n",
    "komp=komp.rename(columns={0:'PC1',1:'PC2'})\n",
    "komp['Element']=elementcols\n",
    "komp['Element']=komp['Element'].str.extract(r'([A-Z][a-z]?)')\n",
    "komp.head()"
   ]
  },
  {
   "cell_type": "code",
   "execution_count": 77,
   "metadata": {},
   "outputs": [],
   "source": [
    "pcaresf=pd.DataFrame(pcares)\n",
    "dsdata['PCA1']=pcaresf[0]\n",
    "dsdata['PCA2']=pcaresf[1]"
   ]
  },
  {
   "cell_type": "code",
   "execution_count": 78,
   "metadata": {},
   "outputs": [
    {
     "data": {
      "image/png": "[encoded data removed]",
      "text/plain": [
       "<Figure size 432x360 with 1 Axes>"
      ]
     },
     "metadata": {
      "needs_background": "light"
     },
     "output_type": "display_data"
    }
   ],
   "source": [
    "fig = plt.figure(figsize = (6,5))\n",
    "plt.plot(komp['PC1'],komp['PC2'], '.',color='k', label=komp['Element'],markersize=1)\n",
    "for i, p in komp.iterrows():\n",
    "        plt.text(p['PC1'], p['PC2'], str(p['Element']),fontsize=10)"
   ]
  },
  {
   "cell_type": "code",
   "execution_count": 71,
   "metadata": {},
   "outputs": [
    {
     "data": {
      "image/png": "[encoded data removed]",
      "text/plain": [
       "<Figure size 432x360 with 1 Axes>"
      ]
     },
     "metadata": {
      "needs_background": "light"
     },
     "output_type": "display_data"
    }
   ],
   "source": [
    "fig = plt.figure(figsize = (6,5))\n",
    "plt.scatter(dsdata['PCA1'],dsdata['PCA2'], c=dsdata['Age'])\n",
    "plt.xlabel('PCA1')\n",
    "plt.ylabel('PCA2')\n",
    "plt.show()"
   ]
  },
  {
   "cell_type": "code",
   "execution_count": null,
   "metadata": {},
   "outputs": [],
   "source": []
  }
 ],
 "metadata": {
  "kernelspec": {
   "display_name": "Python 3",
   "language": "python",
   "name": "python3"
  },
  "language_info": {
   "codemirror_mode": {
    "name": "ipython",
    "version": 3
   },
   "file_extension": ".py",
   "mimetype": "text/x-python",
   "name": "python",
   "nbconvert_exporter": "python",
   "pygments_lexer": "ipython3",
   "version": "3.7.0"
  }
 },
 "nbformat": 4,
 "nbformat_minor": 2
}
